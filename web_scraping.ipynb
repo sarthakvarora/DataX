{
 "cells": [
  {
   "cell_type": "markdown",
   "metadata": {},
   "source": [
    "# Breakout problem\n"
   ]
  },
  {
   "cell_type": "markdown",
   "metadata": {},
   "source": [
    "In this breakout you should extract live weather data in Berkeley from:\n",
    "\n",
    "[Weather Data Berkeley](http://forecast.weather.gov/MapClick.php?lat=37.87158815800046&lon=-122.27274583799971)\n",
    "\n",
    "* Task scrape\n",
    "    * period / day (as Tonight, Friday, FridayNight etc.)\n",
    "    * the temperature for the period (as Low, High)\n",
    "    * the short description (e.g. Mostly Clear, Sunny etc.)\n",
    "    * the long weather description (e.g. Partly cloudy, with a low around 49..)\n",
    "\n",
    "Store the scraped data strings in a Pandas DataFrame\n",
    "\n",
    "Hint: The weather information is found in a div tag with id='seven-day-forecast'\n",
    "\n",
    "The first row of your DataFrame should be similar to the below screenshot (with the same columns):\n",
    "\n",
    "![image](/Users/sarthak/Downloads/titanic/breakout_example.png)\n"
   ]
  },
  {
   "cell_type": "markdown",
   "metadata": {},
   "source": [
    "# Solution"
   ]
  },
  {
   "cell_type": "code",
   "execution_count": 1,
   "metadata": {},
   "outputs": [],
   "source": [
    "# Loading Libraries\n",
    "\n",
    "import requests\n",
    "import bs4 as bs\n",
    "import numpy as np\n",
    "import pandas as pd"
   ]
  },
  {
   "cell_type": "code",
   "execution_count": 2,
   "metadata": {},
   "outputs": [
    {
     "data": {
      "text/plain": [
       "<Response [200]>"
      ]
     },
     "execution_count": 2,
     "metadata": {},
     "output_type": "execute_result"
    }
   ],
   "source": [
    "source = requests.get(\"http://forecast.weather.gov/MapClick.php?lat=37.87158815800046&lon=-122.27274583799971\") \n",
    "source"
   ]
  },
  {
   "cell_type": "code",
   "execution_count": 3,
   "metadata": {},
   "outputs": [],
   "source": [
    "soup = bs.BeautifulSoup(source.content, features='html.parser') \n",
    "# print(soup)"
   ]
  },
  {
   "cell_type": "code",
   "execution_count": 4,
   "metadata": {},
   "outputs": [
    {
     "name": "stdout",
     "output_type": "stream",
     "text": [
      "National Weather Service\n"
     ]
    }
   ],
   "source": [
    "print(soup.find('title').text) "
   ]
  },
  {
   "cell_type": "code",
   "execution_count": 5,
   "metadata": {},
   "outputs": [],
   "source": [
    "div_bar = soup.find('div', {\"id\": \"seven-day-forecast\"})\n",
    "# print(div_bar)\n",
    "\n",
    "# Tombstone Container? Understood through https://www.dataquest.io/blog/web-scraping-python-using-beautiful-soup/\n",
    "forecast_items = div_bar.find_all(class_=\"tombstone-container\")\n",
    "# print(forecast_items)"
   ]
  },
  {
   "cell_type": "code",
   "execution_count": 6,
   "metadata": {},
   "outputs": [
    {
     "name": "stdout",
     "output_type": "stream",
     "text": [
      "Overnight\n",
      "Low: 49 °F\n",
      "Partly Cloudy\n",
      "Overnight: Partly cloudy, with a steady temperature around 49. East northeast wind 5 to 8 mph. \n",
      "\n",
      "Friday\n",
      "High: 62 °F\n",
      "Partly Sunny\n",
      "Friday: Partly sunny, with a high near 62. East northeast wind 7 to 10 mph. \n",
      "\n",
      "FridayNight\n",
      "Low: 45 °F\n",
      "Mostly Cloudy\n",
      "Friday Night: Mostly cloudy, with a low around 45. East northeast wind 3 to 5 mph. \n",
      "\n",
      "Saturday\n",
      "High: 63 °F\n",
      "DecreasingClouds\n",
      "Saturday: Mostly cloudy, then gradually becoming sunny, with a high near 63. East northeast wind 3 to 6 mph. \n",
      "\n",
      "SaturdayNight\n",
      "Low: 44 °F\n",
      "Mostly Clear\n",
      "Saturday Night: Mostly clear, with a low around 44. Light and variable wind. \n",
      "\n",
      "Sunday\n",
      "High: 61 °F\n",
      "Sunny\n",
      "Sunday: Sunny, with a high near 61.\n",
      "\n",
      "SundayNight\n",
      "Low: 47 °F\n",
      "Partly Cloudy\n",
      "Sunday Night: Partly cloudy, with a low around 47.\n",
      "\n",
      "Monday\n",
      "High: 60 °F\n",
      "Partly Sunny\n",
      "Monday: Partly sunny, with a high near 60.\n",
      "\n",
      "MondayNight\n",
      "Low: 44 °F\n",
      "Partly Cloudy\n",
      "Monday Night: Partly cloudy, with a low around 44.\n",
      "\n"
     ]
    }
   ],
   "source": [
    "# Checking values coming through BeautifulSoup\n",
    "\n",
    "for p in forecast_items:\n",
    "    print(p.find('p', class_='period-name').get_text())\n",
    "    print(p.find('p', class_='temp').get_text())\n",
    "    print(p.find('p', class_='short-desc').get_text())\n",
    "    print([img['alt'] for img in p.find_all('img', alt=True)][0])\n",
    "    print()\n"
   ]
  },
  {
   "cell_type": "markdown",
   "metadata": {},
   "source": [
    "# Creating Dataframe"
   ]
  },
  {
   "cell_type": "code",
   "execution_count": 7,
   "metadata": {},
   "outputs": [],
   "source": [
    "arr = np.array([])\n",
    "\n",
    "for p in forecast_items:\n",
    "    listy = []\n",
    "    listy.append(p.find('p', class_='period-name').get_text())\n",
    "    listy.append(p.find('p', class_='temp').get_text())\n",
    "    listy.append(p.find('p', class_='short-desc').get_text())\n",
    "    listy.append([img['alt'] for img in p.find_all('img', alt=True)][0])\n",
    "    arr = np.append(arr, listy, axis=0)\n",
    "\n",
    "arr = arr.reshape(9,4)"
   ]
  },
  {
   "cell_type": "code",
   "execution_count": 8,
   "metadata": {},
   "outputs": [
    {
     "data": {
      "text/html": [
       "<div>\n",
       "<style scoped>\n",
       "    .dataframe tbody tr th:only-of-type {\n",
       "        vertical-align: middle;\n",
       "    }\n",
       "\n",
       "    .dataframe tbody tr th {\n",
       "        vertical-align: top;\n",
       "    }\n",
       "\n",
       "    .dataframe thead th {\n",
       "        text-align: right;\n",
       "    }\n",
       "</style>\n",
       "<table border=\"1\" class=\"dataframe\">\n",
       "  <thead>\n",
       "    <tr style=\"text-align: right;\">\n",
       "      <th></th>\n",
       "      <th>day</th>\n",
       "      <th>temp</th>\n",
       "      <th>short-desc</th>\n",
       "      <th>desc</th>\n",
       "    </tr>\n",
       "  </thead>\n",
       "  <tbody>\n",
       "    <tr>\n",
       "      <th>0</th>\n",
       "      <td>Overnight</td>\n",
       "      <td>Low: 49 °F</td>\n",
       "      <td>Partly Cloudy</td>\n",
       "      <td>Overnight: Partly cloudy, with a steady temper...</td>\n",
       "    </tr>\n",
       "    <tr>\n",
       "      <th>1</th>\n",
       "      <td>Friday</td>\n",
       "      <td>High: 62 °F</td>\n",
       "      <td>Partly Sunny</td>\n",
       "      <td>Friday: Partly sunny, with a high near 62. Eas...</td>\n",
       "    </tr>\n",
       "    <tr>\n",
       "      <th>2</th>\n",
       "      <td>FridayNight</td>\n",
       "      <td>Low: 45 °F</td>\n",
       "      <td>Mostly Cloudy</td>\n",
       "      <td>Friday Night: Mostly cloudy, with a low around...</td>\n",
       "    </tr>\n",
       "    <tr>\n",
       "      <th>3</th>\n",
       "      <td>Saturday</td>\n",
       "      <td>High: 63 °F</td>\n",
       "      <td>DecreasingClouds</td>\n",
       "      <td>Saturday: Mostly cloudy, then gradually becomi...</td>\n",
       "    </tr>\n",
       "    <tr>\n",
       "      <th>4</th>\n",
       "      <td>SaturdayNight</td>\n",
       "      <td>Low: 44 °F</td>\n",
       "      <td>Mostly Clear</td>\n",
       "      <td>Saturday Night: Mostly clear, with a low aroun...</td>\n",
       "    </tr>\n",
       "    <tr>\n",
       "      <th>5</th>\n",
       "      <td>Sunday</td>\n",
       "      <td>High: 61 °F</td>\n",
       "      <td>Sunny</td>\n",
       "      <td>Sunday: Sunny, with a high near 61.</td>\n",
       "    </tr>\n",
       "    <tr>\n",
       "      <th>6</th>\n",
       "      <td>SundayNight</td>\n",
       "      <td>Low: 47 °F</td>\n",
       "      <td>Partly Cloudy</td>\n",
       "      <td>Sunday Night: Partly cloudy, with a low around...</td>\n",
       "    </tr>\n",
       "    <tr>\n",
       "      <th>7</th>\n",
       "      <td>Monday</td>\n",
       "      <td>High: 60 °F</td>\n",
       "      <td>Partly Sunny</td>\n",
       "      <td>Monday: Partly sunny, with a high near 60.</td>\n",
       "    </tr>\n",
       "    <tr>\n",
       "      <th>8</th>\n",
       "      <td>MondayNight</td>\n",
       "      <td>Low: 44 °F</td>\n",
       "      <td>Partly Cloudy</td>\n",
       "      <td>Monday Night: Partly cloudy, with a low around...</td>\n",
       "    </tr>\n",
       "  </tbody>\n",
       "</table>\n",
       "</div>"
      ],
      "text/plain": [
       "             day         temp        short-desc  \\\n",
       "0      Overnight   Low: 49 °F     Partly Cloudy   \n",
       "1         Friday  High: 62 °F      Partly Sunny   \n",
       "2    FridayNight   Low: 45 °F     Mostly Cloudy   \n",
       "3       Saturday  High: 63 °F  DecreasingClouds   \n",
       "4  SaturdayNight   Low: 44 °F      Mostly Clear   \n",
       "5         Sunday  High: 61 °F             Sunny   \n",
       "6    SundayNight   Low: 47 °F     Partly Cloudy   \n",
       "7         Monday  High: 60 °F      Partly Sunny   \n",
       "8    MondayNight   Low: 44 °F     Partly Cloudy   \n",
       "\n",
       "                                                desc  \n",
       "0  Overnight: Partly cloudy, with a steady temper...  \n",
       "1  Friday: Partly sunny, with a high near 62. Eas...  \n",
       "2  Friday Night: Mostly cloudy, with a low around...  \n",
       "3  Saturday: Mostly cloudy, then gradually becomi...  \n",
       "4  Saturday Night: Mostly clear, with a low aroun...  \n",
       "5                Sunday: Sunny, with a high near 61.  \n",
       "6  Sunday Night: Partly cloudy, with a low around...  \n",
       "7         Monday: Partly sunny, with a high near 60.  \n",
       "8  Monday Night: Partly cloudy, with a low around...  "
      ]
     },
     "execution_count": 8,
     "metadata": {},
     "output_type": "execute_result"
    }
   ],
   "source": [
    "df_weather = pd.DataFrame(data = arr, columns = ['day','temp','short-desc','desc'])\n",
    "df_weather.head(10)\n"
   ]
  },
  {
   "cell_type": "code",
   "execution_count": 9,
   "metadata": {},
   "outputs": [],
   "source": [
    "# print([img['alt'] for img in div_bar.find_all('img', alt=True)][0])\n",
    "\n",
    "# print([img.get_text() for img in div_bar.find_all('p', class_='period-name')][0])\n",
    "# print([img.get_text() for img in div_bar.find_all('p', class_='temp')][0])\n",
    "# print([img.get_text() for img in div_bar.find_all('p', class_='short-desc')][0])"
   ]
  },
  {
   "cell_type": "code",
   "execution_count": 10,
   "metadata": {},
   "outputs": [],
   "source": [
    "# day - Tonight (class: period-name)\n",
    "# temp - Low: 52 °F (class: temp)\n",
    "# short_desc - Rain (class: short_desc)\n",
    "# desc - Tonight: Rain.  Low around 52. South wind 10 to 15 mph, with gusts as high as 33 mph.  Chance of precipitation is 90%. New precipitation amounts... (img alt)"
   ]
  }
 ],
 "metadata": {
  "interpreter": {
   "hash": "01b63534483a666cd351e623abe7c2a1239c60e7e9eb6f51dc2104a1db715494"
  },
  "kernelspec": {
   "display_name": "Python 3.8.8 64-bit ('base': conda)",
   "language": "python",
   "name": "python3"
  },
  "language_info": {
   "codemirror_mode": {
    "name": "ipython",
    "version": 3
   },
   "file_extension": ".py",
   "mimetype": "text/x-python",
   "name": "python",
   "nbconvert_exporter": "python",
   "pygments_lexer": "ipython3",
   "version": "3.8.8"
  },
  "orig_nbformat": 4
 },
 "nbformat": 4,
 "nbformat_minor": 2
}
